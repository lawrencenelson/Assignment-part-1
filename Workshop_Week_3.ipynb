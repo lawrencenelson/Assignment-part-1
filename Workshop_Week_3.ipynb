{
  "cells": [
    {
      "cell_type": "markdown",
      "metadata": {
        "id": "view-in-github",
        "colab_type": "text"
      },
      "source": [
        "<a href=\"https://colab.research.google.com/github/lawrencenelson/Assignment-part-1/blob/main/Workshop_Week_3.ipynb\" target=\"_parent\"><img src=\"https://colab.research.google.com/assets/colab-badge.svg\" alt=\"Open In Colab\"/></a>"
      ]
    },
    {
      "cell_type": "markdown",
      "metadata": {
        "id": "3frsAjq5rIyu"
      },
      "source": [
        "The goal this week is to pratice using Markdown to write descriptive text in notebooks and then look at Python data structures including the pandas module that supports data structures designed for handling the kind of data we'll be working with.  \n",
        "\n",
        "There is probably too much work to complete here in the workshop session, but please use this notebook after the workshop to practice your Python.  Remember to commit your changes to git as you go and push back to Github when you are done."
      ]
    },
    {
      "cell_type": "code",
      "execution_count": null,
      "metadata": {
        "id": "1ERj9yAJrIyw"
      },
      "outputs": [],
      "source": [
        "student_name = \"Lawrence Nelson\"\n",
        "student_id = \"47804564\""
      ]
    },
    {
      "cell_type": "markdown",
      "metadata": {
        "id": "Ze-92qnyrIyx"
      },
      "source": [
        "## Markdown Practice\n",
        "\n",
        "Complete this section as per the instructions in the iLearn practical page.  Add the required cells below this one."
      ]
    },
    {
      "cell_type": "markdown",
      "source": [
        "##**Markdown Samples**\n",
        "Here are three useful features of [Markdown](https://www.markdownguide.org/basic-syntax/):\n",
        "\n",
        "\n",
        "\n",
        "1.   It is easy to write\n",
        "2.   It can be turned into HTML automatically\n",
        "3.   It can be used to add simple formatting to text\n",
        "\n",
        " *   for example **bold text** and _italics_\n",
        " *   also different paragraph structures\n",
        "\n",
        "This expression $\\sqrt(3x-1)+(1+x)^2$ is an example of a TeX inline equation in a [Markdown-formatted](https://) sentence.\n",
        "\n",
        "Here is a sample code:\n",
        "\n",
        "\n",
        "```\n",
        "git pull -rebase upstream master\n",
        "```\n",
        "and here is an image insterted into the page:\n",
        "![Image](https://git-scm.com/images/logos/downloads/Git-Logo-2Color.png)\n",
        "\n",
        "\n",
        "\n",
        "\n",
        "\n",
        "\n",
        "\n",
        "\n"
      ],
      "metadata": {
        "id": "X65SNd44rsQV"
      }
    },
    {
      "cell_type": "markdown",
      "source": [],
      "metadata": {
        "id": "tLt0gaPJwn-K"
      }
    },
    {
      "cell_type": "markdown",
      "metadata": {
        "id": "V8KCPDstrIyx"
      },
      "source": [
        "## Lists and Dictionaries\n",
        "\n",
        "First we look at some built in Python data structures: lists and dictionaries.\n",
        "\n",
        "A list is a sequence of things, unlike strongly typed languages (Java, C#) a list can contain a mixture of different types - there is no type for a list of integers or a list of lists.   Here are some lists:"
      ]
    },
    {
      "cell_type": "code",
      "execution_count": 2,
      "metadata": {
        "id": "a6pNh3p_rIyx"
      },
      "outputs": [],
      "source": [
        "ages = [12, 99, 51, 3, 55]\n",
        "names = ['steve', 'jim', 'mary', 'carrie', 'zin']\n",
        "stuff = [12, 'eighteen', 6, ['another', 'list']]"
      ]
    },
    {
      "cell_type": "markdown",
      "metadata": {
        "id": "BgZlFEx_rIyx"
      },
      "source": [
        "1. write code to print the first and third elements of each list\n",
        "2. write code to select and print everything except the first element of each list\n",
        "3. write a for loop that prints each element of the 'names' list"
      ]
    },
    {
      "cell_type": "code",
      "execution_count": 7,
      "metadata": {
        "colab": {
          "base_uri": "https://localhost:8080/"
        },
        "id": "tLUOEzU5rIyx",
        "outputId": "f898dcf7-5d97-4b1c-a3a1-83e0bd687de4"
      },
      "outputs": [
        {
          "output_type": "stream",
          "name": "stdout",
          "text": [
            "First element: 12, Third element: 51\n",
            "First element: steve, Third element: mary\n",
            "First element: 12, Third element: 6\n",
            "{99}\n",
            "{'jim'}\n",
            "{'eighteen'}\n"
          ]
        }
      ],
      "source": [
        "all_lists = [ages, names, stuff]\n",
        "\n",
        "#Q1\n",
        "for lst in all_lists:\n",
        "  if len(lst) >= 3:\n",
        "    print(f\"First element: {lst[0]}, Third element: {lst[2]}\")\n",
        "  else:\n",
        "    print(\"list is shorter than 3 elements\")\n",
        "\n",
        "#Q2\n",
        "for lst in all_lists:\n",
        "  post = 1\n",
        "  if (post < len(lst)):\n",
        "    print({lst[post]})\n",
        "    post += 1\n",
        "\n",
        "#Q3\n",
        "\n",
        "\n",
        "\n",
        "\n"
      ]
    },
    {
      "cell_type": "code",
      "execution_count": 9,
      "metadata": {
        "colab": {
          "base_uri": "https://localhost:8080/"
        },
        "id": "B8tY3CHYrIyy",
        "outputId": "20f9ad5f-9b1d-41e8-91cc-c3c3642a2b4d"
      },
      "outputs": [
        {
          "output_type": "stream",
          "name": "stdout",
          "text": [
            "This 1\n",
            "unit 3\n",
            "introduces 1\n",
            "students 1\n",
            "to 4\n",
            "the 5\n",
            "fundamental 1\n",
            "techniques 1\n",
            "and 3\n",
            "tools 2\n",
            "of 3\n",
            "data 5\n",
            "science, 1\n",
            "such 1\n",
            "as 1\n",
            "graphical 1\n",
            "display 1\n",
            "data, 1\n",
            "predictive 1\n",
            "models, 1\n",
            "evaluation 1\n",
            "methodologies, 1\n",
            "regression, 1\n",
            "classification 1\n",
            "clustering. 1\n",
            "The 1\n",
            "provides 1\n",
            "practical 1\n",
            "experience 1\n",
            "applying 1\n",
            "these 2\n",
            "methods 3\n",
            "using 1\n",
            "industry-standard 1\n",
            "software 1\n",
            "real-world 2\n",
            "sets. 1\n",
            "Students 1\n",
            "who 1\n",
            "have 2\n",
            "completed 1\n",
            "this 1\n",
            "will 1\n",
            "be 1\n",
            "able 1\n",
            "identify 1\n",
            "which 1\n",
            "science 1\n",
            "are 1\n",
            "most 1\n",
            "appropriate 1\n",
            "for 1\n",
            "a 1\n",
            "set, 2\n",
            "apply 1\n",
            "interpret 1\n",
            "results 1\n",
            "analysis 1\n",
            "they 1\n",
            "performed. 1\n"
          ]
        }
      ],
      "source": [
        "description = \"\"\"This unit introduces students to the fundamental techniques and\n",
        "tools of data science, such as the graphical display of data,\n",
        "predictive models, evaluation methodologies, regression,\n",
        "classification and clustering. The unit provides practical\n",
        "experience applying these methods using industry-standard\n",
        "software tools to real-world data sets. Students who have\n",
        "completed this unit will be able to identify which data\n",
        "science methods are most appropriate for a real-world data\n",
        "set, apply these methods to the data set, and interpret the\n",
        "results of the analysis they have performed. \"\"\"\n",
        "\n",
        "count = dict()\n",
        "for word in description.split():\n",
        "    if word in count:\n",
        "        count[word] += 1\n",
        "    else:\n",
        "        count[word] = 1\n",
        "\n",
        "for word in count:\n",
        "    print(word, count[word])"
      ]
    },
    {
      "cell_type": "code",
      "source": [
        "import re\n",
        "desc = re.sub(r'[^\\w\\s]', '', description)\n",
        "print(desc)"
      ],
      "metadata": {
        "colab": {
          "base_uri": "https://localhost:8080/"
        },
        "id": "X5ildVHU3Njg",
        "outputId": "6b89bd43-8f47-42e1-d246-e4ab593a5377"
      },
      "execution_count": 12,
      "outputs": [
        {
          "output_type": "stream",
          "name": "stdout",
          "text": [
            "This unit introduces students to the fundamental techniques and \n",
            "tools of data science such as the graphical display of data \n",
            "predictive models evaluation methodologies regression \n",
            "classification and clustering The unit provides practical \n",
            "experience applying these methods using industrystandard \n",
            "software tools to realworld data sets Students who have \n",
            "completed this unit will be able to identify which data \n",
            "science methods are most appropriate for a realworld data \n",
            "set apply these methods to the data set and interpret the \n",
            "results of the analysis they have performed \n"
          ]
        }
      ]
    },
    {
      "cell_type": "code",
      "source": [
        "desc = desc.lower()\n",
        "print(desc)"
      ],
      "metadata": {
        "colab": {
          "base_uri": "https://localhost:8080/"
        },
        "id": "8VWPaYO33vmr",
        "outputId": "8d7b4dcd-0dd1-4ebe-9cff-3b8879fa482a"
      },
      "execution_count": 13,
      "outputs": [
        {
          "output_type": "stream",
          "name": "stdout",
          "text": [
            "this unit introduces students to the fundamental techniques and \n",
            "tools of data science such as the graphical display of data \n",
            "predictive models evaluation methodologies regression \n",
            "classification and clustering the unit provides practical \n",
            "experience applying these methods using industrystandard \n",
            "software tools to realworld data sets students who have \n",
            "completed this unit will be able to identify which data \n",
            "science methods are most appropriate for a realworld data \n",
            "set apply these methods to the data set and interpret the \n",
            "results of the analysis they have performed \n"
          ]
        }
      ]
    },
    {
      "cell_type": "code",
      "source": [
        "count = dict()\n",
        "for word in description.split():\n",
        "  if word in count:\n",
        "    count[word] += 1\n",
        "  else:\n",
        "    count[word] = 1\n",
        "\n",
        "for word in count:\n",
        "  print(word, count[word])"
      ],
      "metadata": {
        "colab": {
          "base_uri": "https://localhost:8080/"
        },
        "id": "AIbOud8_8YJa",
        "outputId": "b9d9d7d2-5bbc-4cef-907f-c5c3ac63ef2f"
      },
      "execution_count": 20,
      "outputs": [
        {
          "output_type": "stream",
          "name": "stdout",
          "text": [
            "This 1\n",
            "unit 3\n",
            "introduces 1\n",
            "students 1\n",
            "to 4\n",
            "the 5\n",
            "fundamental 1\n",
            "techniques 1\n",
            "and 3\n",
            "tools 2\n",
            "of 3\n",
            "data 5\n",
            "science, 1\n",
            "such 1\n",
            "as 1\n",
            "graphical 1\n",
            "display 1\n",
            "data, 1\n",
            "predictive 1\n",
            "models, 1\n",
            "evaluation 1\n",
            "methodologies, 1\n",
            "regression, 1\n",
            "classification 1\n",
            "clustering. 1\n",
            "The 1\n",
            "provides 1\n",
            "practical 1\n",
            "experience 1\n",
            "applying 1\n",
            "these 2\n",
            "methods 3\n",
            "using 1\n",
            "industry-standard 1\n",
            "software 1\n",
            "real-world 2\n",
            "sets. 1\n",
            "Students 1\n",
            "who 1\n",
            "have 2\n",
            "completed 1\n",
            "this 1\n",
            "will 1\n",
            "be 1\n",
            "able 1\n",
            "identify 1\n",
            "which 1\n",
            "science 1\n",
            "are 1\n",
            "most 1\n",
            "appropriate 1\n",
            "for 1\n",
            "a 1\n",
            "set, 2\n",
            "apply 1\n",
            "interpret 1\n",
            "results 1\n",
            "analysis 1\n",
            "they 1\n",
            "performed. 1\n"
          ]
        }
      ]
    },
    {
      "cell_type": "code",
      "source": [],
      "metadata": {
        "id": "LYfCGTQM8xjc"
      },
      "execution_count": null,
      "outputs": []
    },
    {
      "cell_type": "markdown",
      "metadata": {
        "id": "hQ0pwRs1rIyz"
      },
      "source": [
        "## Pandas Data Frames\n",
        "\n",
        "[Pandas](https://pandas.pydata.org) is a Python module that provides some important data structures for Data Science work and a large collection of methods for data analysis.\n",
        "\n",
        "The two main data structures are the [Series]() and [DataFrame](http://pandas.pydata.org/pandas-docs/stable/dsintro.html#dataframe).  \n",
        "\n",
        "A Series is a one dimensional array of data, but unlike the Python list the data is indexed - the index is like the dictionary key, any immutable value like a number or string.  You can use the label to select elements from the series as well as positional values.  \n",
        "\n",
        "A DataFrame is analogous to a spreadsheet - a two dimensional table of data with indexed rows and named columns.\n",
        "\n",
        "You should read up on these and follow the examples in the text.  Here are a few exercises to complete with data frames."
      ]
    },
    {
      "cell_type": "markdown",
      "metadata": {
        "id": "rYEyHkglrIyz"
      },
      "source": [
        "You are given three csv files containing sample data."
      ]
    },
    {
      "cell_type": "code",
      "execution_count": 10,
      "metadata": {
        "id": "FHuHBAuerIyz"
      },
      "outputs": [],
      "source": [
        "import pandas as pd\n",
        "import numpy as np\n",
        "import matplotlib.pyplot as plt\n",
        "%matplotlib inline\n",
        "\n",
        "ds1 = '/content/ds1.csv'\n",
        "ds2 = '/content/ds2.csv'\n",
        "ds3 = '/content/ds3.csv'"
      ]
    },
    {
      "cell_type": "markdown",
      "metadata": {
        "id": "W4zQ1sY4rIyz"
      },
      "source": [
        "Write code below to read one of these data files into a pandas data frame and:\n",
        "- show the first few rows: .head\n",
        "- find the summary data for each column: .describe\n",
        "- select just those rows where the value of x and y is over 50\n",
        "- select the column 'x' and create a series\n",
        "- plot the 'x' series as a line graph\n",
        "- plot the dataframe as a scatterplot\n",
        "\n",
        "Once you have the code for this, you can change the file you use for input of the data (ds2, ds3) and re-run the following cells to see the different output that is generated"
      ]
    },
    {
      "cell_type": "code",
      "execution_count": 11,
      "metadata": {
        "id": "rdQ_4vVSrIyz"
      },
      "outputs": [],
      "source": [
        "df1 = pd.read_csv(ds1)\n",
        "df2 = pd.read_csv(ds2)\n",
        "df3 = pd.read_csv(ds3)"
      ]
    },
    {
      "cell_type": "code",
      "source": [
        "df1.head()"
      ],
      "metadata": {
        "colab": {
          "base_uri": "https://localhost:8080/",
          "height": 206
        },
        "id": "C9ogeZpp7WNs",
        "outputId": "c9903af8-7766-45cf-a7bb-d3978ccd1f03"
      },
      "execution_count": 14,
      "outputs": [
        {
          "output_type": "execute_result",
          "data": {
            "text/plain": [
              "         x        y\n",
              "0  55.3846  97.1795\n",
              "1  51.5385  96.0256\n",
              "2  46.1538  94.4872\n",
              "3  42.8205  91.4103\n",
              "4  40.7692  88.3333"
            ],
            "text/html": [
              "\n",
              "  <div id=\"df-a33651a0-d162-494a-ac21-b62e1d10ec86\" class=\"colab-df-container\">\n",
              "    <div>\n",
              "<style scoped>\n",
              "    .dataframe tbody tr th:only-of-type {\n",
              "        vertical-align: middle;\n",
              "    }\n",
              "\n",
              "    .dataframe tbody tr th {\n",
              "        vertical-align: top;\n",
              "    }\n",
              "\n",
              "    .dataframe thead th {\n",
              "        text-align: right;\n",
              "    }\n",
              "</style>\n",
              "<table border=\"1\" class=\"dataframe\">\n",
              "  <thead>\n",
              "    <tr style=\"text-align: right;\">\n",
              "      <th></th>\n",
              "      <th>x</th>\n",
              "      <th>y</th>\n",
              "    </tr>\n",
              "  </thead>\n",
              "  <tbody>\n",
              "    <tr>\n",
              "      <th>0</th>\n",
              "      <td>55.3846</td>\n",
              "      <td>97.1795</td>\n",
              "    </tr>\n",
              "    <tr>\n",
              "      <th>1</th>\n",
              "      <td>51.5385</td>\n",
              "      <td>96.0256</td>\n",
              "    </tr>\n",
              "    <tr>\n",
              "      <th>2</th>\n",
              "      <td>46.1538</td>\n",
              "      <td>94.4872</td>\n",
              "    </tr>\n",
              "    <tr>\n",
              "      <th>3</th>\n",
              "      <td>42.8205</td>\n",
              "      <td>91.4103</td>\n",
              "    </tr>\n",
              "    <tr>\n",
              "      <th>4</th>\n",
              "      <td>40.7692</td>\n",
              "      <td>88.3333</td>\n",
              "    </tr>\n",
              "  </tbody>\n",
              "</table>\n",
              "</div>\n",
              "    <div class=\"colab-df-buttons\">\n",
              "\n",
              "  <div class=\"colab-df-container\">\n",
              "    <button class=\"colab-df-convert\" onclick=\"convertToInteractive('df-a33651a0-d162-494a-ac21-b62e1d10ec86')\"\n",
              "            title=\"Convert this dataframe to an interactive table.\"\n",
              "            style=\"display:none;\">\n",
              "\n",
              "  <svg xmlns=\"http://www.w3.org/2000/svg\" height=\"24px\" viewBox=\"0 -960 960 960\">\n",
              "    <path d=\"M120-120v-720h720v720H120Zm60-500h600v-160H180v160Zm220 220h160v-160H400v160Zm0 220h160v-160H400v160ZM180-400h160v-160H180v160Zm440 0h160v-160H620v160ZM180-180h160v-160H180v160Zm440 0h160v-160H620v160Z\"/>\n",
              "  </svg>\n",
              "    </button>\n",
              "\n",
              "  <style>\n",
              "    .colab-df-container {\n",
              "      display:flex;\n",
              "      gap: 12px;\n",
              "    }\n",
              "\n",
              "    .colab-df-convert {\n",
              "      background-color: #E8F0FE;\n",
              "      border: none;\n",
              "      border-radius: 50%;\n",
              "      cursor: pointer;\n",
              "      display: none;\n",
              "      fill: #1967D2;\n",
              "      height: 32px;\n",
              "      padding: 0 0 0 0;\n",
              "      width: 32px;\n",
              "    }\n",
              "\n",
              "    .colab-df-convert:hover {\n",
              "      background-color: #E2EBFA;\n",
              "      box-shadow: 0px 1px 2px rgba(60, 64, 67, 0.3), 0px 1px 3px 1px rgba(60, 64, 67, 0.15);\n",
              "      fill: #174EA6;\n",
              "    }\n",
              "\n",
              "    .colab-df-buttons div {\n",
              "      margin-bottom: 4px;\n",
              "    }\n",
              "\n",
              "    [theme=dark] .colab-df-convert {\n",
              "      background-color: #3B4455;\n",
              "      fill: #D2E3FC;\n",
              "    }\n",
              "\n",
              "    [theme=dark] .colab-df-convert:hover {\n",
              "      background-color: #434B5C;\n",
              "      box-shadow: 0px 1px 3px 1px rgba(0, 0, 0, 0.15);\n",
              "      filter: drop-shadow(0px 1px 2px rgba(0, 0, 0, 0.3));\n",
              "      fill: #FFFFFF;\n",
              "    }\n",
              "  </style>\n",
              "\n",
              "    <script>\n",
              "      const buttonEl =\n",
              "        document.querySelector('#df-a33651a0-d162-494a-ac21-b62e1d10ec86 button.colab-df-convert');\n",
              "      buttonEl.style.display =\n",
              "        google.colab.kernel.accessAllowed ? 'block' : 'none';\n",
              "\n",
              "      async function convertToInteractive(key) {\n",
              "        const element = document.querySelector('#df-a33651a0-d162-494a-ac21-b62e1d10ec86');\n",
              "        const dataTable =\n",
              "          await google.colab.kernel.invokeFunction('convertToInteractive',\n",
              "                                                    [key], {});\n",
              "        if (!dataTable) return;\n",
              "\n",
              "        const docLinkHtml = 'Like what you see? Visit the ' +\n",
              "          '<a target=\"_blank\" href=https://colab.research.google.com/notebooks/data_table.ipynb>data table notebook</a>'\n",
              "          + ' to learn more about interactive tables.';\n",
              "        element.innerHTML = '';\n",
              "        dataTable['output_type'] = 'display_data';\n",
              "        await google.colab.output.renderOutput(dataTable, element);\n",
              "        const docLink = document.createElement('div');\n",
              "        docLink.innerHTML = docLinkHtml;\n",
              "        element.appendChild(docLink);\n",
              "      }\n",
              "    </script>\n",
              "  </div>\n",
              "\n",
              "\n",
              "<div id=\"df-18054861-ce54-431f-8215-f8392f2ae753\">\n",
              "  <button class=\"colab-df-quickchart\" onclick=\"quickchart('df-18054861-ce54-431f-8215-f8392f2ae753')\"\n",
              "            title=\"Suggest charts\"\n",
              "            style=\"display:none;\">\n",
              "\n",
              "<svg xmlns=\"http://www.w3.org/2000/svg\" height=\"24px\"viewBox=\"0 0 24 24\"\n",
              "     width=\"24px\">\n",
              "    <g>\n",
              "        <path d=\"M19 3H5c-1.1 0-2 .9-2 2v14c0 1.1.9 2 2 2h14c1.1 0 2-.9 2-2V5c0-1.1-.9-2-2-2zM9 17H7v-7h2v7zm4 0h-2V7h2v10zm4 0h-2v-4h2v4z\"/>\n",
              "    </g>\n",
              "</svg>\n",
              "  </button>\n",
              "\n",
              "<style>\n",
              "  .colab-df-quickchart {\n",
              "      --bg-color: #E8F0FE;\n",
              "      --fill-color: #1967D2;\n",
              "      --hover-bg-color: #E2EBFA;\n",
              "      --hover-fill-color: #174EA6;\n",
              "      --disabled-fill-color: #AAA;\n",
              "      --disabled-bg-color: #DDD;\n",
              "  }\n",
              "\n",
              "  [theme=dark] .colab-df-quickchart {\n",
              "      --bg-color: #3B4455;\n",
              "      --fill-color: #D2E3FC;\n",
              "      --hover-bg-color: #434B5C;\n",
              "      --hover-fill-color: #FFFFFF;\n",
              "      --disabled-bg-color: #3B4455;\n",
              "      --disabled-fill-color: #666;\n",
              "  }\n",
              "\n",
              "  .colab-df-quickchart {\n",
              "    background-color: var(--bg-color);\n",
              "    border: none;\n",
              "    border-radius: 50%;\n",
              "    cursor: pointer;\n",
              "    display: none;\n",
              "    fill: var(--fill-color);\n",
              "    height: 32px;\n",
              "    padding: 0;\n",
              "    width: 32px;\n",
              "  }\n",
              "\n",
              "  .colab-df-quickchart:hover {\n",
              "    background-color: var(--hover-bg-color);\n",
              "    box-shadow: 0 1px 2px rgba(60, 64, 67, 0.3), 0 1px 3px 1px rgba(60, 64, 67, 0.15);\n",
              "    fill: var(--button-hover-fill-color);\n",
              "  }\n",
              "\n",
              "  .colab-df-quickchart-complete:disabled,\n",
              "  .colab-df-quickchart-complete:disabled:hover {\n",
              "    background-color: var(--disabled-bg-color);\n",
              "    fill: var(--disabled-fill-color);\n",
              "    box-shadow: none;\n",
              "  }\n",
              "\n",
              "  .colab-df-spinner {\n",
              "    border: 2px solid var(--fill-color);\n",
              "    border-color: transparent;\n",
              "    border-bottom-color: var(--fill-color);\n",
              "    animation:\n",
              "      spin 1s steps(1) infinite;\n",
              "  }\n",
              "\n",
              "  @keyframes spin {\n",
              "    0% {\n",
              "      border-color: transparent;\n",
              "      border-bottom-color: var(--fill-color);\n",
              "      border-left-color: var(--fill-color);\n",
              "    }\n",
              "    20% {\n",
              "      border-color: transparent;\n",
              "      border-left-color: var(--fill-color);\n",
              "      border-top-color: var(--fill-color);\n",
              "    }\n",
              "    30% {\n",
              "      border-color: transparent;\n",
              "      border-left-color: var(--fill-color);\n",
              "      border-top-color: var(--fill-color);\n",
              "      border-right-color: var(--fill-color);\n",
              "    }\n",
              "    40% {\n",
              "      border-color: transparent;\n",
              "      border-right-color: var(--fill-color);\n",
              "      border-top-color: var(--fill-color);\n",
              "    }\n",
              "    60% {\n",
              "      border-color: transparent;\n",
              "      border-right-color: var(--fill-color);\n",
              "    }\n",
              "    80% {\n",
              "      border-color: transparent;\n",
              "      border-right-color: var(--fill-color);\n",
              "      border-bottom-color: var(--fill-color);\n",
              "    }\n",
              "    90% {\n",
              "      border-color: transparent;\n",
              "      border-bottom-color: var(--fill-color);\n",
              "    }\n",
              "  }\n",
              "</style>\n",
              "\n",
              "  <script>\n",
              "    async function quickchart(key) {\n",
              "      const quickchartButtonEl =\n",
              "        document.querySelector('#' + key + ' button');\n",
              "      quickchartButtonEl.disabled = true;  // To prevent multiple clicks.\n",
              "      quickchartButtonEl.classList.add('colab-df-spinner');\n",
              "      try {\n",
              "        const charts = await google.colab.kernel.invokeFunction(\n",
              "            'suggestCharts', [key], {});\n",
              "      } catch (error) {\n",
              "        console.error('Error during call to suggestCharts:', error);\n",
              "      }\n",
              "      quickchartButtonEl.classList.remove('colab-df-spinner');\n",
              "      quickchartButtonEl.classList.add('colab-df-quickchart-complete');\n",
              "    }\n",
              "    (() => {\n",
              "      let quickchartButtonEl =\n",
              "        document.querySelector('#df-18054861-ce54-431f-8215-f8392f2ae753 button');\n",
              "      quickchartButtonEl.style.display =\n",
              "        google.colab.kernel.accessAllowed ? 'block' : 'none';\n",
              "    })();\n",
              "  </script>\n",
              "</div>\n",
              "\n",
              "    </div>\n",
              "  </div>\n"
            ],
            "application/vnd.google.colaboratory.intrinsic+json": {
              "type": "dataframe",
              "variable_name": "df1",
              "summary": "{\n  \"name\": \"df1\",\n  \"rows\": 142,\n  \"fields\": [\n    {\n      \"column\": \"x\",\n      \"properties\": {\n        \"dtype\": \"number\",\n        \"std\": 16.76514203911679,\n        \"min\": 22.3077,\n        \"max\": 98.2051,\n        \"num_unique_values\": 100,\n        \"samples\": [\n          65.8974,\n          46.9231,\n          85.1282\n        ],\n        \"semantic_type\": \"\",\n        \"description\": \"\"\n      }\n    },\n    {\n      \"column\": \"y\",\n      \"properties\": {\n        \"dtype\": \"number\",\n        \"std\": 26.935403486939116,\n        \"min\": 2.9487,\n        \"max\": 99.4872,\n        \"num_unique_values\": 103,\n        \"samples\": [\n          31.4103,\n          83.3333,\n          99.1026\n        ],\n        \"semantic_type\": \"\",\n        \"description\": \"\"\n      }\n    }\n  ]\n}"
            }
          },
          "metadata": {},
          "execution_count": 14
        }
      ]
    },
    {
      "cell_type": "code",
      "source": [
        "x50 = df1['x'] > 50\n",
        "y50 = df1['y'] > 50\n",
        "\n",
        "df1_new = df1[x50 & y50]\n",
        "\n",
        "df1_new.head()"
      ],
      "metadata": {
        "colab": {
          "base_uri": "https://localhost:8080/",
          "height": 206
        },
        "id": "fa4JeYlX68cT",
        "outputId": "ce191459-81be-46e4-d65a-58719137220f"
      },
      "execution_count": 15,
      "outputs": [
        {
          "output_type": "execute_result",
          "data": {
            "text/plain": [
              "          x        y\n",
              "0   55.3846  97.1795\n",
              "1   51.5385  96.0256\n",
              "22  53.0769  55.6410\n",
              "23  56.6667  56.0256\n",
              "24  59.2308  57.9487"
            ],
            "text/html": [
              "\n",
              "  <div id=\"df-b1347bb1-d87d-4547-83fa-037a17055d0c\" class=\"colab-df-container\">\n",
              "    <div>\n",
              "<style scoped>\n",
              "    .dataframe tbody tr th:only-of-type {\n",
              "        vertical-align: middle;\n",
              "    }\n",
              "\n",
              "    .dataframe tbody tr th {\n",
              "        vertical-align: top;\n",
              "    }\n",
              "\n",
              "    .dataframe thead th {\n",
              "        text-align: right;\n",
              "    }\n",
              "</style>\n",
              "<table border=\"1\" class=\"dataframe\">\n",
              "  <thead>\n",
              "    <tr style=\"text-align: right;\">\n",
              "      <th></th>\n",
              "      <th>x</th>\n",
              "      <th>y</th>\n",
              "    </tr>\n",
              "  </thead>\n",
              "  <tbody>\n",
              "    <tr>\n",
              "      <th>0</th>\n",
              "      <td>55.3846</td>\n",
              "      <td>97.1795</td>\n",
              "    </tr>\n",
              "    <tr>\n",
              "      <th>1</th>\n",
              "      <td>51.5385</td>\n",
              "      <td>96.0256</td>\n",
              "    </tr>\n",
              "    <tr>\n",
              "      <th>22</th>\n",
              "      <td>53.0769</td>\n",
              "      <td>55.6410</td>\n",
              "    </tr>\n",
              "    <tr>\n",
              "      <th>23</th>\n",
              "      <td>56.6667</td>\n",
              "      <td>56.0256</td>\n",
              "    </tr>\n",
              "    <tr>\n",
              "      <th>24</th>\n",
              "      <td>59.2308</td>\n",
              "      <td>57.9487</td>\n",
              "    </tr>\n",
              "  </tbody>\n",
              "</table>\n",
              "</div>\n",
              "    <div class=\"colab-df-buttons\">\n",
              "\n",
              "  <div class=\"colab-df-container\">\n",
              "    <button class=\"colab-df-convert\" onclick=\"convertToInteractive('df-b1347bb1-d87d-4547-83fa-037a17055d0c')\"\n",
              "            title=\"Convert this dataframe to an interactive table.\"\n",
              "            style=\"display:none;\">\n",
              "\n",
              "  <svg xmlns=\"http://www.w3.org/2000/svg\" height=\"24px\" viewBox=\"0 -960 960 960\">\n",
              "    <path d=\"M120-120v-720h720v720H120Zm60-500h600v-160H180v160Zm220 220h160v-160H400v160Zm0 220h160v-160H400v160ZM180-400h160v-160H180v160Zm440 0h160v-160H620v160ZM180-180h160v-160H180v160Zm440 0h160v-160H620v160Z\"/>\n",
              "  </svg>\n",
              "    </button>\n",
              "\n",
              "  <style>\n",
              "    .colab-df-container {\n",
              "      display:flex;\n",
              "      gap: 12px;\n",
              "    }\n",
              "\n",
              "    .colab-df-convert {\n",
              "      background-color: #E8F0FE;\n",
              "      border: none;\n",
              "      border-radius: 50%;\n",
              "      cursor: pointer;\n",
              "      display: none;\n",
              "      fill: #1967D2;\n",
              "      height: 32px;\n",
              "      padding: 0 0 0 0;\n",
              "      width: 32px;\n",
              "    }\n",
              "\n",
              "    .colab-df-convert:hover {\n",
              "      background-color: #E2EBFA;\n",
              "      box-shadow: 0px 1px 2px rgba(60, 64, 67, 0.3), 0px 1px 3px 1px rgba(60, 64, 67, 0.15);\n",
              "      fill: #174EA6;\n",
              "    }\n",
              "\n",
              "    .colab-df-buttons div {\n",
              "      margin-bottom: 4px;\n",
              "    }\n",
              "\n",
              "    [theme=dark] .colab-df-convert {\n",
              "      background-color: #3B4455;\n",
              "      fill: #D2E3FC;\n",
              "    }\n",
              "\n",
              "    [theme=dark] .colab-df-convert:hover {\n",
              "      background-color: #434B5C;\n",
              "      box-shadow: 0px 1px 3px 1px rgba(0, 0, 0, 0.15);\n",
              "      filter: drop-shadow(0px 1px 2px rgba(0, 0, 0, 0.3));\n",
              "      fill: #FFFFFF;\n",
              "    }\n",
              "  </style>\n",
              "\n",
              "    <script>\n",
              "      const buttonEl =\n",
              "        document.querySelector('#df-b1347bb1-d87d-4547-83fa-037a17055d0c button.colab-df-convert');\n",
              "      buttonEl.style.display =\n",
              "        google.colab.kernel.accessAllowed ? 'block' : 'none';\n",
              "\n",
              "      async function convertToInteractive(key) {\n",
              "        const element = document.querySelector('#df-b1347bb1-d87d-4547-83fa-037a17055d0c');\n",
              "        const dataTable =\n",
              "          await google.colab.kernel.invokeFunction('convertToInteractive',\n",
              "                                                    [key], {});\n",
              "        if (!dataTable) return;\n",
              "\n",
              "        const docLinkHtml = 'Like what you see? Visit the ' +\n",
              "          '<a target=\"_blank\" href=https://colab.research.google.com/notebooks/data_table.ipynb>data table notebook</a>'\n",
              "          + ' to learn more about interactive tables.';\n",
              "        element.innerHTML = '';\n",
              "        dataTable['output_type'] = 'display_data';\n",
              "        await google.colab.output.renderOutput(dataTable, element);\n",
              "        const docLink = document.createElement('div');\n",
              "        docLink.innerHTML = docLinkHtml;\n",
              "        element.appendChild(docLink);\n",
              "      }\n",
              "    </script>\n",
              "  </div>\n",
              "\n",
              "\n",
              "<div id=\"df-b425e172-0c08-4f95-8182-5e4775dcfe22\">\n",
              "  <button class=\"colab-df-quickchart\" onclick=\"quickchart('df-b425e172-0c08-4f95-8182-5e4775dcfe22')\"\n",
              "            title=\"Suggest charts\"\n",
              "            style=\"display:none;\">\n",
              "\n",
              "<svg xmlns=\"http://www.w3.org/2000/svg\" height=\"24px\"viewBox=\"0 0 24 24\"\n",
              "     width=\"24px\">\n",
              "    <g>\n",
              "        <path d=\"M19 3H5c-1.1 0-2 .9-2 2v14c0 1.1.9 2 2 2h14c1.1 0 2-.9 2-2V5c0-1.1-.9-2-2-2zM9 17H7v-7h2v7zm4 0h-2V7h2v10zm4 0h-2v-4h2v4z\"/>\n",
              "    </g>\n",
              "</svg>\n",
              "  </button>\n",
              "\n",
              "<style>\n",
              "  .colab-df-quickchart {\n",
              "      --bg-color: #E8F0FE;\n",
              "      --fill-color: #1967D2;\n",
              "      --hover-bg-color: #E2EBFA;\n",
              "      --hover-fill-color: #174EA6;\n",
              "      --disabled-fill-color: #AAA;\n",
              "      --disabled-bg-color: #DDD;\n",
              "  }\n",
              "\n",
              "  [theme=dark] .colab-df-quickchart {\n",
              "      --bg-color: #3B4455;\n",
              "      --fill-color: #D2E3FC;\n",
              "      --hover-bg-color: #434B5C;\n",
              "      --hover-fill-color: #FFFFFF;\n",
              "      --disabled-bg-color: #3B4455;\n",
              "      --disabled-fill-color: #666;\n",
              "  }\n",
              "\n",
              "  .colab-df-quickchart {\n",
              "    background-color: var(--bg-color);\n",
              "    border: none;\n",
              "    border-radius: 50%;\n",
              "    cursor: pointer;\n",
              "    display: none;\n",
              "    fill: var(--fill-color);\n",
              "    height: 32px;\n",
              "    padding: 0;\n",
              "    width: 32px;\n",
              "  }\n",
              "\n",
              "  .colab-df-quickchart:hover {\n",
              "    background-color: var(--hover-bg-color);\n",
              "    box-shadow: 0 1px 2px rgba(60, 64, 67, 0.3), 0 1px 3px 1px rgba(60, 64, 67, 0.15);\n",
              "    fill: var(--button-hover-fill-color);\n",
              "  }\n",
              "\n",
              "  .colab-df-quickchart-complete:disabled,\n",
              "  .colab-df-quickchart-complete:disabled:hover {\n",
              "    background-color: var(--disabled-bg-color);\n",
              "    fill: var(--disabled-fill-color);\n",
              "    box-shadow: none;\n",
              "  }\n",
              "\n",
              "  .colab-df-spinner {\n",
              "    border: 2px solid var(--fill-color);\n",
              "    border-color: transparent;\n",
              "    border-bottom-color: var(--fill-color);\n",
              "    animation:\n",
              "      spin 1s steps(1) infinite;\n",
              "  }\n",
              "\n",
              "  @keyframes spin {\n",
              "    0% {\n",
              "      border-color: transparent;\n",
              "      border-bottom-color: var(--fill-color);\n",
              "      border-left-color: var(--fill-color);\n",
              "    }\n",
              "    20% {\n",
              "      border-color: transparent;\n",
              "      border-left-color: var(--fill-color);\n",
              "      border-top-color: var(--fill-color);\n",
              "    }\n",
              "    30% {\n",
              "      border-color: transparent;\n",
              "      border-left-color: var(--fill-color);\n",
              "      border-top-color: var(--fill-color);\n",
              "      border-right-color: var(--fill-color);\n",
              "    }\n",
              "    40% {\n",
              "      border-color: transparent;\n",
              "      border-right-color: var(--fill-color);\n",
              "      border-top-color: var(--fill-color);\n",
              "    }\n",
              "    60% {\n",
              "      border-color: transparent;\n",
              "      border-right-color: var(--fill-color);\n",
              "    }\n",
              "    80% {\n",
              "      border-color: transparent;\n",
              "      border-right-color: var(--fill-color);\n",
              "      border-bottom-color: var(--fill-color);\n",
              "    }\n",
              "    90% {\n",
              "      border-color: transparent;\n",
              "      border-bottom-color: var(--fill-color);\n",
              "    }\n",
              "  }\n",
              "</style>\n",
              "\n",
              "  <script>\n",
              "    async function quickchart(key) {\n",
              "      const quickchartButtonEl =\n",
              "        document.querySelector('#' + key + ' button');\n",
              "      quickchartButtonEl.disabled = true;  // To prevent multiple clicks.\n",
              "      quickchartButtonEl.classList.add('colab-df-spinner');\n",
              "      try {\n",
              "        const charts = await google.colab.kernel.invokeFunction(\n",
              "            'suggestCharts', [key], {});\n",
              "      } catch (error) {\n",
              "        console.error('Error during call to suggestCharts:', error);\n",
              "      }\n",
              "      quickchartButtonEl.classList.remove('colab-df-spinner');\n",
              "      quickchartButtonEl.classList.add('colab-df-quickchart-complete');\n",
              "    }\n",
              "    (() => {\n",
              "      let quickchartButtonEl =\n",
              "        document.querySelector('#df-b425e172-0c08-4f95-8182-5e4775dcfe22 button');\n",
              "      quickchartButtonEl.style.display =\n",
              "        google.colab.kernel.accessAllowed ? 'block' : 'none';\n",
              "    })();\n",
              "  </script>\n",
              "</div>\n",
              "\n",
              "    </div>\n",
              "  </div>\n"
            ],
            "application/vnd.google.colaboratory.intrinsic+json": {
              "type": "dataframe",
              "variable_name": "df1_new",
              "summary": "{\n  \"name\": \"df1_new\",\n  \"rows\": 33,\n  \"fields\": [\n    {\n      \"column\": \"x\",\n      \"properties\": {\n        \"dtype\": \"number\",\n        \"std\": 10.174097777600814,\n        \"min\": 51.2821,\n        \"max\": 85.1282,\n        \"num_unique_values\": 28,\n        \"samples\": [\n          70.5128,\n          81.7949,\n          57.4359\n        ],\n        \"semantic_type\": \"\",\n        \"description\": \"\"\n      }\n    },\n    {\n      \"column\": \"y\",\n      \"properties\": {\n        \"dtype\": \"number\",\n        \"std\": 15.462921375037356,\n        \"min\": 51.4103,\n        \"max\": 99.4872,\n        \"num_unique_values\": 31,\n        \"samples\": [\n          71.4103,\n          82.9487,\n          86.4103\n        ],\n        \"semantic_type\": \"\",\n        \"description\": \"\"\n      }\n    }\n  ]\n}"
            }
          },
          "metadata": {},
          "execution_count": 15
        }
      ]
    },
    {
      "cell_type": "code",
      "source": [
        "x_series = df1['x']\n",
        "x_series\n",
        "x_series.plot(kind = 'line')"
      ],
      "metadata": {
        "colab": {
          "base_uri": "https://localhost:8080/",
          "height": 448
        },
        "id": "bf8hPaeH7js7",
        "outputId": "25cfe44a-8281-4719-d686-67cc75c251b3"
      },
      "execution_count": 18,
      "outputs": [
        {
          "output_type": "execute_result",
          "data": {
            "text/plain": [
              "<Axes: >"
            ]
          },
          "metadata": {},
          "execution_count": 18
        },
        {
          "output_type": "display_data",
          "data": {
            "text/plain": [
              "<Figure size 640x480 with 1 Axes>"
            ],
            "image/png": "[encoded data removed]"
          },
          "metadata": {}
        }
      ]
    },
    {
      "cell_type": "code",
      "source": [
        "df1.plot(kind = 'scatter', x = 'x', y = 'y')"
      ],
      "metadata": {
        "colab": {
          "base_uri": "https://localhost:8080/",
          "height": 467
        },
        "id": "toMlLF0q76v1",
        "outputId": "ff350faa-697f-4d68-99b3-e30ea9fadca1"
      },
      "execution_count": 19,
      "outputs": [
        {
          "output_type": "execute_result",
          "data": {
            "text/plain": [
              "<Axes: xlabel='x', ylabel='y'>"
            ]
          },
          "metadata": {},
          "execution_count": 19
        },
        {
          "output_type": "display_data",
          "data": {
            "text/plain": [
              "<Figure size 640x480 with 1 Axes>"
            ],
            "image/png": "[encoded data removed]"
          },
          "metadata": {}
        }
      ]
    },
    {
      "cell_type": "code",
      "source": [
        "df2.plot(kind = 'scatter', x = 'x', y = 'y')"
      ],
      "metadata": {
        "colab": {
          "base_uri": "https://localhost:8080/",
          "height": 467
        },
        "id": "Fbd5E29t9A4w",
        "outputId": "57860b08-63d2-4441-bd4a-0a8654379210"
      },
      "execution_count": 21,
      "outputs": [
        {
          "output_type": "execute_result",
          "data": {
            "text/plain": [
              "<Axes: xlabel='x', ylabel='y'>"
            ]
          },
          "metadata": {},
          "execution_count": 21
        },
        {
          "output_type": "display_data",
          "data": {
            "text/plain": [
              "<Figure size 640x480 with 1 Axes>"
            ],
            "image/png": "[encoded data removed]"
          },
          "metadata": {}
        }
      ]
    },
    {
      "cell_type": "code",
      "source": [
        "df3.plot(kind = 'scatter', x = 'x', y = 'y')"
      ],
      "metadata": {
        "colab": {
          "base_uri": "https://localhost:8080/",
          "height": 467
        },
        "id": "HIErv02f9D1A",
        "outputId": "38fc0145-262d-4b8e-b9b0-8290b71cc6e3"
      },
      "execution_count": 22,
      "outputs": [
        {
          "output_type": "execute_result",
          "data": {
            "text/plain": [
              "<Axes: xlabel='x', ylabel='y'>"
            ]
          },
          "metadata": {},
          "execution_count": 22
        },
        {
          "output_type": "display_data",
          "data": {
            "text/plain": [
              "<Figure size 640x480 with 1 Axes>"
            ],
            "image/png": "[encoded data removed]"
          },
          "metadata": {}
        }
      ]
    },
    {
      "cell_type": "markdown",
      "metadata": {
        "id": "9LgajDHurIyz"
      },
      "source": [
        "## Checkpoint\n",
        "\n",
        "Congratulations! you have finished the required task for Week 2. Since you got this empty (without your code and output) notebook by downloading from iLearn, place this notebook (Workshop Week 2.ipynb) into your local copy of your Github repository (e.g. practical-workshops-sonitsingh)and commit your work with a suitable commit message and push your changes back to your Github repository. Show your tutor your updated Github repository to get your checkpoint mark."
      ]
    },
    {
      "cell_type": "markdown",
      "metadata": {
        "id": "vIWHd4f-rIy0"
      },
      "source": [
        "# Further Practice\n",
        "\n",
        "If you finish this task you can practice more with pandas data frames by following the examples in the text, section 2.6.  The CSV file that they use in that section is available in the `files` directory of this repository as `educ_figdp_1_Data.csv`.   "
      ]
    },
    {
      "cell_type": "code",
      "execution_count": null,
      "metadata": {
        "id": "XaekCAlArIy0"
      },
      "outputs": [],
      "source": [
        "edufile = 'files/educ_figdp_1_Data.csv'"
      ]
    }
  ],
  "metadata": {
    "kernelspec": {
      "display_name": "Python 3",
      "language": "python",
      "name": "python3"
    },
    "language_info": {
      "codemirror_mode": {
        "name": "ipython",
        "version": 3
      },
      "file_extension": ".py",
      "mimetype": "text/x-python",
      "name": "python",
      "nbconvert_exporter": "python",
      "pygments_lexer": "ipython3",
      "version": "3.7.3"
    },
    "colab": {
      "provenance": [],
      "include_colab_link": true
    }
  },
  "nbformat": 4,
  "nbformat_minor": 0
}